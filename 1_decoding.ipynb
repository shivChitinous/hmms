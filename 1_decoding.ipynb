{
 "cells": [
  {
   "cell_type": "markdown",
   "metadata": {},
   "source": [
    "# Decoding — The CpG Island Problem"
   ]
  },
  {
   "cell_type": "code",
   "execution_count": 1,
   "metadata": {},
   "outputs": [],
   "source": [
    "import numpy as np\n",
    "import matplotlib.pyplot as plt\n",
    "import seaborn as sns; sns.set()\n",
    "import pandas as pd\n",
    "import hmm\n",
    "\n",
    "np.random.seed(0) #set random seed"
   ]
  },
  {
   "cell_type": "markdown",
   "metadata": {},
   "source": [
    "We can decode hidden states of a sequence given a Hidden Markov Model of the process that generated it. To define an HMM we need the following:\n",
    "\n",
    "1. A matrix of transition probabilities from one state to another\n",
    "2. A matrix of emission probabilities in each state\n",
    "3. Initial probabilities of being in a state\n",
    "\n",
    "For our problem we are dealing with two states — `+` and `-` where `+` indicates a CpG island and `-` indicates a non-CpG island.\n",
    "In each state, the markov model can emit one of four nucleotide bases — `A`, `T`, `G` or `C`."
   ]
  },
  {
   "cell_type": "markdown",
   "metadata": {},
   "source": [
    "# A Simple HMM for CpG Islands"
   ]
  },
  {
   "cell_type": "markdown",
   "metadata": {},
   "source": [
    "We start with a simple HMM for decoding CpG islands. This HMM is similar to a dishonest casino model."
   ]
  },
  {
   "cell_type": "code",
   "execution_count": 2,
   "metadata": {},
   "outputs": [],
   "source": [
    "transition = pd.read_csv(\"cpg_hmm_1/transition.csv\",index_col=0)\n",
    "emission = pd.read_csv(\"cpg_hmm_1/emission.csv\",index_col=0)\n",
    "init = pd.read_csv(\"cpg_hmm_1/init.csv\",index_col=0)"
   ]
  },
  {
   "cell_type": "markdown",
   "metadata": {},
   "source": [
    "### 1. Transition Matrix"
   ]
  },
  {
   "cell_type": "code",
   "execution_count": 3,
   "metadata": {},
   "outputs": [
    {
     "data": {
      "text/html": [
       "<div>\n",
       "<style scoped>\n",
       "    .dataframe tbody tr th:only-of-type {\n",
       "        vertical-align: middle;\n",
       "    }\n",
       "\n",
       "    .dataframe tbody tr th {\n",
       "        vertical-align: top;\n",
       "    }\n",
       "\n",
       "    .dataframe thead th {\n",
       "        text-align: right;\n",
       "    }\n",
       "</style>\n",
       "<table border=\"1\" class=\"dataframe\">\n",
       "  <thead>\n",
       "    <tr style=\"text-align: right;\">\n",
       "      <th></th>\n",
       "      <th>-</th>\n",
       "      <th>+</th>\n",
       "    </tr>\n",
       "  </thead>\n",
       "  <tbody>\n",
       "    <tr>\n",
       "      <th>-</th>\n",
       "      <td>0.95</td>\n",
       "      <td>0.05</td>\n",
       "    </tr>\n",
       "    <tr>\n",
       "      <th>+</th>\n",
       "      <td>0.10</td>\n",
       "      <td>0.90</td>\n",
       "    </tr>\n",
       "  </tbody>\n",
       "</table>\n",
       "</div>"
      ],
      "text/plain": [
       "      -     +\n",
       "-  0.95  0.05\n",
       "+  0.10  0.90"
      ]
     },
     "execution_count": 3,
     "metadata": {},
     "output_type": "execute_result"
    }
   ],
   "source": [
    "transition"
   ]
  },
  {
   "cell_type": "markdown",
   "metadata": {},
   "source": [
    "### 2. Emission Matrix"
   ]
  },
  {
   "cell_type": "code",
   "execution_count": 4,
   "metadata": {},
   "outputs": [
    {
     "data": {
      "text/html": [
       "<div>\n",
       "<style scoped>\n",
       "    .dataframe tbody tr th:only-of-type {\n",
       "        vertical-align: middle;\n",
       "    }\n",
       "\n",
       "    .dataframe tbody tr th {\n",
       "        vertical-align: top;\n",
       "    }\n",
       "\n",
       "    .dataframe thead th {\n",
       "        text-align: right;\n",
       "    }\n",
       "</style>\n",
       "<table border=\"1\" class=\"dataframe\">\n",
       "  <thead>\n",
       "    <tr style=\"text-align: right;\">\n",
       "      <th></th>\n",
       "      <th>A</th>\n",
       "      <th>C</th>\n",
       "      <th>T</th>\n",
       "      <th>G</th>\n",
       "    </tr>\n",
       "  </thead>\n",
       "  <tbody>\n",
       "    <tr>\n",
       "      <th>-</th>\n",
       "      <td>0.27</td>\n",
       "      <td>0.24</td>\n",
       "      <td>0.26</td>\n",
       "      <td>0.23</td>\n",
       "    </tr>\n",
       "    <tr>\n",
       "      <th>+</th>\n",
       "      <td>0.15</td>\n",
       "      <td>0.33</td>\n",
       "      <td>0.16</td>\n",
       "      <td>0.36</td>\n",
       "    </tr>\n",
       "  </tbody>\n",
       "</table>\n",
       "</div>"
      ],
      "text/plain": [
       "      A     C     T     G\n",
       "-  0.27  0.24  0.26  0.23\n",
       "+  0.15  0.33  0.16  0.36"
      ]
     },
     "execution_count": 4,
     "metadata": {},
     "output_type": "execute_result"
    }
   ],
   "source": [
    "emission"
   ]
  },
  {
   "cell_type": "markdown",
   "metadata": {},
   "source": [
    "### 3. Initial Probabilities"
   ]
  },
  {
   "cell_type": "code",
   "execution_count": 5,
   "metadata": {},
   "outputs": [
    {
     "data": {
      "text/html": [
       "<div>\n",
       "<style scoped>\n",
       "    .dataframe tbody tr th:only-of-type {\n",
       "        vertical-align: middle;\n",
       "    }\n",
       "\n",
       "    .dataframe tbody tr th {\n",
       "        vertical-align: top;\n",
       "    }\n",
       "\n",
       "    .dataframe thead th {\n",
       "        text-align: right;\n",
       "    }\n",
       "</style>\n",
       "<table border=\"1\" class=\"dataframe\">\n",
       "  <thead>\n",
       "    <tr style=\"text-align: right;\">\n",
       "      <th></th>\n",
       "      <th>-</th>\n",
       "      <th>+</th>\n",
       "    </tr>\n",
       "  </thead>\n",
       "  <tbody>\n",
       "    <tr>\n",
       "      <th>p</th>\n",
       "      <td>0.5</td>\n",
       "      <td>0.5</td>\n",
       "    </tr>\n",
       "  </tbody>\n",
       "</table>\n",
       "</div>"
      ],
      "text/plain": [
       "     -    +\n",
       "p  0.5  0.5"
      ]
     },
     "execution_count": 5,
     "metadata": {},
     "output_type": "execute_result"
    }
   ],
   "source": [
    "init"
   ]
  },
  {
   "cell_type": "markdown",
   "metadata": {},
   "source": [
    "## Constructing a sequence under this HMM\n",
    "Let's construct a DNA sequence under the HMM with 10 base pairs."
   ]
  },
  {
   "cell_type": "code",
   "execution_count": 6,
   "metadata": {},
   "outputs": [],
   "source": [
    "N = 10 #number of bases"
   ]
  },
  {
   "cell_type": "code",
   "execution_count": 7,
   "metadata": {},
   "outputs": [],
   "source": [
    "seq = np.zeros(N,dtype='object')\n",
    "st = np.zeros(N+1,dtype='object')\n",
    "st[0] = np.random.choice(list(init.columns), 1, p=list(init.iloc[0]))[0]\n",
    "for i in range(N):\n",
    "    seq[i] = np.random.choice(list(emission.columns), 1, p=list(emission.loc[st[i]]))[0]\n",
    "    st[i+1] = np.random.choice(list(transition.columns), 1, p=list(transition.loc[st[i]]))[0]\n",
    "st = np.delete(st, -1)"
   ]
  },
  {
   "cell_type": "code",
   "execution_count": 8,
   "metadata": {},
   "outputs": [
    {
     "name": "stdout",
     "output_type": "stream",
     "text": [
      "+++++++---\n",
      "GTGGCTGAGG\n"
     ]
    }
   ],
   "source": [
    "print(np.sum(st))\n",
    "print(np.sum(seq))"
   ]
  },
  {
   "cell_type": "markdown",
   "metadata": {},
   "source": [
    "Note that there are more CG bases in the `+` state."
   ]
  },
  {
   "cell_type": "markdown",
   "metadata": {},
   "source": [
    "## Decoding hidden states with Viterbi Algorithm"
   ]
  },
  {
   "cell_type": "markdown",
   "metadata": {},
   "source": [
    "Construct a viterbi matrix ($V$) of size *k* x *N* where *k* is the number of states and *N* is the number of sequence elements. We will also need a `tracer` matrix of size *k* x *N*."
   ]
  },
  {
   "cell_type": "code",
   "execution_count": 9,
   "metadata": {},
   "outputs": [],
   "source": [
    "k = np.shape(emission)[0]\n",
    "V = np.zeros([k,N]) #viterbi matrix\n",
    "tracer = np.zeros([k,N],dtype='object')"
   ]
  },
  {
   "cell_type": "code",
   "execution_count": 10,
   "metadata": {},
   "outputs": [
    {
     "data": {
      "image/png": "[encoded data removed]",
      "text/plain": [
       "<Figure size 720x360 with 1 Axes>"
      ]
     },
     "metadata": {},
     "output_type": "display_data"
    }
   ],
   "source": [
    "plt.figure(figsize=(10,5))\n",
    "sns.heatmap(V,square=True,cbar=False,linewidth = 1,yticklabels=list(transition.columns),cmap='Blues',annot=True);"
   ]
  },
  {
   "cell_type": "markdown",
   "metadata": {},
   "source": [
    "### Initialization\n",
    "The first column (*j*=1) is filled with the initial probabilities of being in the *i*th state multiplied by the emission probability associated with that state and the 1st sequence element."
   ]
  },
  {
   "cell_type": "code",
   "execution_count": 11,
   "metadata": {},
   "outputs": [],
   "source": [
    "V[:,0] = init*emission[seq[0]]"
   ]
  },
  {
   "cell_type": "code",
   "execution_count": 12,
   "metadata": {},
   "outputs": [
    {
     "data": {
      "image/png": "[encoded data removed]",
      "text/plain": [
       "<Figure size 720x360 with 1 Axes>"
      ]
     },
     "metadata": {},
     "output_type": "display_data"
    }
   ],
   "source": [
    "plt.figure(figsize=(10,5))\n",
    "sns.heatmap(V,square=True,cbar=False,linewidth = 1,yticklabels=list(transition.columns),cmap='Blues',annot=True);"
   ]
  },
  {
   "cell_type": "markdown",
   "metadata": {},
   "source": [
    "*Note*: We fill up the matrix with log values and after that is complete, we exponentiate all values. This is done to prevent overflow."
   ]
  },
  {
   "cell_type": "code",
   "execution_count": 13,
   "metadata": {},
   "outputs": [],
   "source": [
    "V[:,0] = np.log(V[:,0])"
   ]
  },
  {
   "cell_type": "markdown",
   "metadata": {},
   "source": [
    "### Fill Step\n",
    "\n",
    "To fill up the matrix we use the relation:\n",
    "\n",
    "$V_{i,j} = max_k \\big\\{ V_{k,j-1} \\times P(\\pi_i|\\pi_k) \\times P(x_j|\\pi_i) \\big\\} $\n",
    "\n",
    "where $P(\\pi_i|\\pi_k)$ is the transition probability of going from state $\\pi_k$ to state $\\pi_i$ and $P(x_j|\\pi_i)$ is the emission probability of emitting the base $x_j$ in the state $\\pi_i$."
   ]
  },
  {
   "cell_type": "code",
   "execution_count": 14,
   "metadata": {},
   "outputs": [],
   "source": [
    "for j in range(1,N):\n",
    "    for i in range(0,k):\n",
    "        possibles = V[:,j-1]+np.log(transition.iloc[:,i])+np.log(emission[seq[j]][i])\n",
    "        V[i,j] = np.max(possibles)\n",
    "        tracer[i,j-1] = (np.array(transition.columns[np.where(possibles==np.max(possibles))])[0])\n",
    "V = np.exp(V)"
   ]
  },
  {
   "cell_type": "code",
   "execution_count": 15,
   "metadata": {},
   "outputs": [
    {
     "data": {
      "image/png": "[encoded data removed]",
      "text/plain": [
       "<Figure size 720x432 with 2 Axes>"
      ]
     },
     "metadata": {},
     "output_type": "display_data"
    }
   ],
   "source": [
    "fig,ax = plt.subplots(2,1,figsize=(10,6))\n",
    "sns.heatmap(V,square=True,cbar=False,linewidth = 1,cmap='Blues',\n",
    "            yticklabels=list(transition.columns),annot=True,ax=ax[0])\n",
    "ax[0].set_title(\"$V$\")\n",
    "sns.heatmap(np.log(V),square=True,cbar=False,linewidth = 1,\n",
    "            cmap='Blues',yticklabels=list(transition.columns),annot=True,ax=ax[1])\n",
    "ax[1].set_title(\"$\\log(V)$\");"
   ]
  },
  {
   "cell_type": "code",
   "execution_count": 16,
   "metadata": {},
   "outputs": [],
   "source": [
    "tracer[k-1,N-1] = np.array(transition.columns[np.where(V[:,N-1]==np.max(V[:,N-1]))])[0] #final traceback\n",
    "tracer[tracer==0] = '/' #ignoring all elements of the last column except the maximum one"
   ]
  },
  {
   "cell_type": "markdown",
   "metadata": {},
   "source": [
    "### Traceback"
   ]
  },
  {
   "cell_type": "markdown",
   "metadata": {},
   "source": [
    "Let's visualize the tracer matrix."
   ]
  },
  {
   "cell_type": "code",
   "execution_count": 17,
   "metadata": {},
   "outputs": [
    {
     "data": {
      "text/html": [
       "<div>\n",
       "<style scoped>\n",
       "    .dataframe tbody tr th:only-of-type {\n",
       "        vertical-align: middle;\n",
       "    }\n",
       "\n",
       "    .dataframe tbody tr th {\n",
       "        vertical-align: top;\n",
       "    }\n",
       "\n",
       "    .dataframe thead th {\n",
       "        text-align: right;\n",
       "    }\n",
       "</style>\n",
       "<table border=\"1\" class=\"dataframe\">\n",
       "  <thead>\n",
       "    <tr style=\"text-align: right;\">\n",
       "      <th></th>\n",
       "      <th>0</th>\n",
       "      <th>1</th>\n",
       "      <th>2</th>\n",
       "      <th>3</th>\n",
       "      <th>4</th>\n",
       "      <th>5</th>\n",
       "      <th>6</th>\n",
       "      <th>7</th>\n",
       "      <th>8</th>\n",
       "      <th>9</th>\n",
       "    </tr>\n",
       "  </thead>\n",
       "  <tbody>\n",
       "    <tr>\n",
       "      <th>0</th>\n",
       "      <td>-</td>\n",
       "      <td>-</td>\n",
       "      <td>-</td>\n",
       "      <td>-</td>\n",
       "      <td>-</td>\n",
       "      <td>-</td>\n",
       "      <td>-</td>\n",
       "      <td>-</td>\n",
       "      <td>-</td>\n",
       "      <td>/</td>\n",
       "    </tr>\n",
       "    <tr>\n",
       "      <th>1</th>\n",
       "      <td>+</td>\n",
       "      <td>+</td>\n",
       "      <td>+</td>\n",
       "      <td>+</td>\n",
       "      <td>+</td>\n",
       "      <td>+</td>\n",
       "      <td>+</td>\n",
       "      <td>+</td>\n",
       "      <td>+</td>\n",
       "      <td>+</td>\n",
       "    </tr>\n",
       "  </tbody>\n",
       "</table>\n",
       "</div>"
      ],
      "text/plain": [
       "   0  1  2  3  4  5  6  7  8  9\n",
       "0  -  -  -  -  -  -  -  -  -  /\n",
       "1  +  +  +  +  +  +  +  +  +  +"
      ]
     },
     "execution_count": 17,
     "metadata": {},
     "output_type": "execute_result"
    }
   ],
   "source": [
    "pd.DataFrame(tracer)"
   ]
  },
  {
   "cell_type": "markdown",
   "metadata": {},
   "source": [
    "The tracer matrix indicates the traceback directions for each element of the $V$ matrix. We start with the element in the last row and the last column. It tells us the state of the final element. \n",
    "\n",
    "If the final element is in the `+` state, we move towards the left (and diagonally if `-`). Now we note that the state of the second last element. In this manner, we follow the symbols as we traceback. Unlike in sequence alignment, the likelihood of multiple tracebacks is rare."
   ]
  },
  {
   "cell_type": "code",
   "execution_count": 18,
   "metadata": {},
   "outputs": [],
   "source": [
    "st = np.zeros(N,dtype='object')\n",
    "st[-1] = tracer[-1,-1]\n",
    "for i in range(2,N+1):\n",
    "    st[-i] = tracer[(np.where(np.array(transition.columns)==st[-i+1])[0][0]),-i]"
   ]
  },
  {
   "cell_type": "code",
   "execution_count": 19,
   "metadata": {},
   "outputs": [
    {
     "name": "stdout",
     "output_type": "stream",
     "text": [
      "++++++++++\n",
      "GTGGCTGAGG\n"
     ]
    }
   ],
   "source": [
    "print(np.sum(st))\n",
    "print(np.sum(seq))"
   ]
  },
  {
   "cell_type": "markdown",
   "metadata": {},
   "source": [
    "The Viterbi Algorithm might not spit out the precise states that generated our sequence. It attempts to estimate them but does not always succeed."
   ]
  },
  {
   "cell_type": "markdown",
   "metadata": {},
   "source": [
    "## Finding CpG islands in larger sequences\n",
    "\n",
    "We will use the functions `hmm.generate` to create sequences according to an HMM (defined by the `transition`, `emission` and `init` matrices) and the function `hmm.viterbi` to decode the hidden states."
   ]
  },
  {
   "cell_type": "code",
   "execution_count": 20,
   "metadata": {},
   "outputs": [
    {
     "name": "stdout",
     "output_type": "stream",
     "text": [
      "+++++++++++------------------------------++++++++++++++++++++++++++++-------------------------------\n",
      "CAATCCATGCGTACTGATCATAGGGGTCCCATTTCACTGTTCTCCGGGGGGCAGTATTGGCGAGACAGCTTGATTAGCTATGTTCATAACCATTGTACTT\n"
     ]
    }
   ],
   "source": [
    "st,seq = hmm.generate(transition, emission, init, 100)\n",
    "print(st)\n",
    "print(seq)"
   ]
  },
  {
   "cell_type": "code",
   "execution_count": 21,
   "metadata": {},
   "outputs": [
    {
     "name": "stdout",
     "output_type": "stream",
     "text": [
      "----------------------------------------------------------------------------------------------------\n",
      "CAATCCATGCGTACTGATCATAGGGGTCCCATTTCACTGTTCTCCGGGGGGCAGTATTGGCGAGACAGCTTGATTAGCTATGTTCATAACCATTGTACTT\n"
     ]
    },
    {
     "data": {
      "image/png": "[encoded data removed]",
      "text/plain": [
       "<Figure size 1080x108 with 2 Axes>"
      ]
     },
     "metadata": {},
     "output_type": "display_data"
    }
   ],
   "source": [
    "st_vit = hmm.viterbi(seq, transition, emission, init, disp_v=True, disp_alignment=True)"
   ]
  },
  {
   "cell_type": "markdown",
   "metadata": {},
   "source": [
    "# A refined HMM for CpG Islands\n",
    "\n",
    "In the previous HMM, the probability of moving into or out of a given state is not dependant on the nucleotide base. This can be rectified by having 8 hidden states: \n",
    "\n",
    "1. `a`, `t`, `g` and `c` which represent nucleotides present in **non-CpG islands**\n",
    "\n",
    "2. `ā`, `ī`, `ō` and `č` which represent nucleotides present in **CpG islands**\n",
    "\n",
    "The `transition`, `emission` and `init` matrices are as follows."
   ]
  },
  {
   "cell_type": "code",
   "execution_count": 22,
   "metadata": {},
   "outputs": [],
   "source": [
    "proto_transition = pd.read_csv(\"cpg_hmm_2/proto_transition.csv\",index_col=0)\n",
    "emission = pd.read_csv(\"cpg_hmm_2/emission.csv\",index_col=0)\n",
    "init = pd.read_csv(\"cpg_hmm_2/init.csv\",index_col=0)"
   ]
  },
  {
   "cell_type": "markdown",
   "metadata": {},
   "source": [
    "### Deriving the Transition Matrix"
   ]
  },
  {
   "cell_type": "markdown",
   "metadata": {},
   "source": [
    "The `proto_transition` matrix (derived by [Durbin, Eddy, Krogh and Mitchinson in 1998](https://www.semanticscholar.org/paper/Biological-Sequence-Analysis%3A-Probabilistic-Models-Durbin-Eddy/571f5bbecd3a083a2bb6844f59a3f8cea237252e)) has to be modified as shown below with the parameters $1/\\delta$ (the expected length of a CpG island) and $1/\\tau$ (the expected gap between two CpG islands) to derive the `transition` matrix.\n",
    "\n",
    "Let $1/\\delta = 20$ and $1/\\tau = 30$."
   ]
  },
  {
   "cell_type": "code",
   "execution_count": 23,
   "metadata": {},
   "outputs": [],
   "source": [
    "delta = 1/20 #average CpG island length is 10\n",
    "tau = 1/30 #average gap between CpG islands is 20\n",
    "\n",
    "#derive transition matrix from the proto transition matrix\n",
    "transition = proto_transition.copy()\n",
    "transition.iloc[:4,:4] = proto_transition.iloc[:4,:4]*(1-tau)\n",
    "transition.iloc[4:,4:] = proto_transition.iloc[4:,4:]*(1-delta)\n",
    "transition.iloc[4:,:4] = proto_transition.iloc[4:,:4]*delta\n",
    "transition.iloc[:4,4:] = proto_transition.iloc[:4,4:]*tau"
   ]
  },
  {
   "cell_type": "code",
   "execution_count": 24,
   "metadata": {},
   "outputs": [
    {
     "data": {
      "text/html": [
       "<div>\n",
       "<style scoped>\n",
       "    .dataframe tbody tr th:only-of-type {\n",
       "        vertical-align: middle;\n",
       "    }\n",
       "\n",
       "    .dataframe tbody tr th {\n",
       "        vertical-align: top;\n",
       "    }\n",
       "\n",
       "    .dataframe thead th {\n",
       "        text-align: right;\n",
       "    }\n",
       "</style>\n",
       "<table border=\"1\" class=\"dataframe\">\n",
       "  <thead>\n",
       "    <tr style=\"text-align: right;\">\n",
       "      <th></th>\n",
       "      <th>a</th>\n",
       "      <th>c</th>\n",
       "      <th>t</th>\n",
       "      <th>g</th>\n",
       "      <th>ā</th>\n",
       "      <th>č</th>\n",
       "      <th>ī</th>\n",
       "      <th>ō</th>\n",
       "    </tr>\n",
       "  </thead>\n",
       "  <tbody>\n",
       "    <tr>\n",
       "      <th>a</th>\n",
       "      <td>0.290000</td>\n",
       "      <td>0.198167</td>\n",
       "      <td>0.203000</td>\n",
       "      <td>0.275500</td>\n",
       "      <td>0.008333</td>\n",
       "      <td>0.008333</td>\n",
       "      <td>0.008333</td>\n",
       "      <td>0.008333</td>\n",
       "    </tr>\n",
       "    <tr>\n",
       "      <th>c</th>\n",
       "      <td>0.311267</td>\n",
       "      <td>0.288067</td>\n",
       "      <td>0.291933</td>\n",
       "      <td>0.075400</td>\n",
       "      <td>0.008333</td>\n",
       "      <td>0.008333</td>\n",
       "      <td>0.008333</td>\n",
       "      <td>0.008333</td>\n",
       "    </tr>\n",
       "    <tr>\n",
       "      <th>t</th>\n",
       "      <td>0.239733</td>\n",
       "      <td>0.237800</td>\n",
       "      <td>0.201067</td>\n",
       "      <td>0.288067</td>\n",
       "      <td>0.008333</td>\n",
       "      <td>0.008333</td>\n",
       "      <td>0.008333</td>\n",
       "      <td>0.008333</td>\n",
       "    </tr>\n",
       "    <tr>\n",
       "      <th>g</th>\n",
       "      <td>0.171100</td>\n",
       "      <td>0.231033</td>\n",
       "      <td>0.282267</td>\n",
       "      <td>0.282267</td>\n",
       "      <td>0.008333</td>\n",
       "      <td>0.008333</td>\n",
       "      <td>0.008333</td>\n",
       "      <td>0.008333</td>\n",
       "    </tr>\n",
       "    <tr>\n",
       "      <th>ā</th>\n",
       "      <td>0.012500</td>\n",
       "      <td>0.012500</td>\n",
       "      <td>0.012500</td>\n",
       "      <td>0.012500</td>\n",
       "      <td>0.171000</td>\n",
       "      <td>0.260300</td>\n",
       "      <td>0.114000</td>\n",
       "      <td>0.404700</td>\n",
       "    </tr>\n",
       "    <tr>\n",
       "      <th>č</th>\n",
       "      <td>0.012500</td>\n",
       "      <td>0.012500</td>\n",
       "      <td>0.012500</td>\n",
       "      <td>0.012500</td>\n",
       "      <td>0.162450</td>\n",
       "      <td>0.349600</td>\n",
       "      <td>0.177650</td>\n",
       "      <td>0.260300</td>\n",
       "    </tr>\n",
       "    <tr>\n",
       "      <th>ī</th>\n",
       "      <td>0.012500</td>\n",
       "      <td>0.012500</td>\n",
       "      <td>0.012500</td>\n",
       "      <td>0.012500</td>\n",
       "      <td>0.152950</td>\n",
       "      <td>0.322050</td>\n",
       "      <td>0.118750</td>\n",
       "      <td>0.356250</td>\n",
       "    </tr>\n",
       "    <tr>\n",
       "      <th>ō</th>\n",
       "      <td>0.012500</td>\n",
       "      <td>0.012500</td>\n",
       "      <td>0.012500</td>\n",
       "      <td>0.012500</td>\n",
       "      <td>0.075050</td>\n",
       "      <td>0.337250</td>\n",
       "      <td>0.172900</td>\n",
       "      <td>0.364800</td>\n",
       "    </tr>\n",
       "  </tbody>\n",
       "</table>\n",
       "</div>"
      ],
      "text/plain": [
       "          a         c         t         g         ā         č         ī  \\\n",
       "a  0.290000  0.198167  0.203000  0.275500  0.008333  0.008333  0.008333   \n",
       "c  0.311267  0.288067  0.291933  0.075400  0.008333  0.008333  0.008333   \n",
       "t  0.239733  0.237800  0.201067  0.288067  0.008333  0.008333  0.008333   \n",
       "g  0.171100  0.231033  0.282267  0.282267  0.008333  0.008333  0.008333   \n",
       "ā  0.012500  0.012500  0.012500  0.012500  0.171000  0.260300  0.114000   \n",
       "č  0.012500  0.012500  0.012500  0.012500  0.162450  0.349600  0.177650   \n",
       "ī  0.012500  0.012500  0.012500  0.012500  0.152950  0.322050  0.118750   \n",
       "ō  0.012500  0.012500  0.012500  0.012500  0.075050  0.337250  0.172900   \n",
       "\n",
       "          ō  \n",
       "a  0.008333  \n",
       "c  0.008333  \n",
       "t  0.008333  \n",
       "g  0.008333  \n",
       "ā  0.404700  \n",
       "č  0.260300  \n",
       "ī  0.356250  \n",
       "ō  0.364800  "
      ]
     },
     "execution_count": 24,
     "metadata": {},
     "output_type": "execute_result"
    }
   ],
   "source": [
    "transition"
   ]
  },
  {
   "cell_type": "markdown",
   "metadata": {},
   "source": [
    "### Emission Matrix\n",
    "Since every hidden state can only produce a given nucleotide, the `emission` matrix contains only 1s and 0s."
   ]
  },
  {
   "cell_type": "code",
   "execution_count": 25,
   "metadata": {},
   "outputs": [
    {
     "data": {
      "text/html": [
       "<div>\n",
       "<style scoped>\n",
       "    .dataframe tbody tr th:only-of-type {\n",
       "        vertical-align: middle;\n",
       "    }\n",
       "\n",
       "    .dataframe tbody tr th {\n",
       "        vertical-align: top;\n",
       "    }\n",
       "\n",
       "    .dataframe thead th {\n",
       "        text-align: right;\n",
       "    }\n",
       "</style>\n",
       "<table border=\"1\" class=\"dataframe\">\n",
       "  <thead>\n",
       "    <tr style=\"text-align: right;\">\n",
       "      <th></th>\n",
       "      <th>A</th>\n",
       "      <th>C</th>\n",
       "      <th>T</th>\n",
       "      <th>G</th>\n",
       "    </tr>\n",
       "  </thead>\n",
       "  <tbody>\n",
       "    <tr>\n",
       "      <th>a</th>\n",
       "      <td>1</td>\n",
       "      <td>0</td>\n",
       "      <td>0</td>\n",
       "      <td>0</td>\n",
       "    </tr>\n",
       "    <tr>\n",
       "      <th>c</th>\n",
       "      <td>0</td>\n",
       "      <td>1</td>\n",
       "      <td>0</td>\n",
       "      <td>0</td>\n",
       "    </tr>\n",
       "    <tr>\n",
       "      <th>t</th>\n",
       "      <td>0</td>\n",
       "      <td>0</td>\n",
       "      <td>1</td>\n",
       "      <td>0</td>\n",
       "    </tr>\n",
       "    <tr>\n",
       "      <th>g</th>\n",
       "      <td>0</td>\n",
       "      <td>0</td>\n",
       "      <td>0</td>\n",
       "      <td>1</td>\n",
       "    </tr>\n",
       "    <tr>\n",
       "      <th>ā</th>\n",
       "      <td>1</td>\n",
       "      <td>0</td>\n",
       "      <td>0</td>\n",
       "      <td>0</td>\n",
       "    </tr>\n",
       "    <tr>\n",
       "      <th>č</th>\n",
       "      <td>0</td>\n",
       "      <td>1</td>\n",
       "      <td>0</td>\n",
       "      <td>0</td>\n",
       "    </tr>\n",
       "    <tr>\n",
       "      <th>ī</th>\n",
       "      <td>0</td>\n",
       "      <td>0</td>\n",
       "      <td>1</td>\n",
       "      <td>0</td>\n",
       "    </tr>\n",
       "    <tr>\n",
       "      <th>ō</th>\n",
       "      <td>0</td>\n",
       "      <td>0</td>\n",
       "      <td>0</td>\n",
       "      <td>1</td>\n",
       "    </tr>\n",
       "  </tbody>\n",
       "</table>\n",
       "</div>"
      ],
      "text/plain": [
       "   A  C  T  G\n",
       "a  1  0  0  0\n",
       "c  0  1  0  0\n",
       "t  0  0  1  0\n",
       "g  0  0  0  1\n",
       "ā  1  0  0  0\n",
       "č  0  1  0  0\n",
       "ī  0  0  1  0\n",
       "ō  0  0  0  1"
      ]
     },
     "execution_count": 25,
     "metadata": {},
     "output_type": "execute_result"
    }
   ],
   "source": [
    "emission"
   ]
  },
  {
   "cell_type": "markdown",
   "metadata": {},
   "source": [
    "### Init Matrix"
   ]
  },
  {
   "cell_type": "code",
   "execution_count": 26,
   "metadata": {},
   "outputs": [
    {
     "data": {
      "text/html": [
       "<div>\n",
       "<style scoped>\n",
       "    .dataframe tbody tr th:only-of-type {\n",
       "        vertical-align: middle;\n",
       "    }\n",
       "\n",
       "    .dataframe tbody tr th {\n",
       "        vertical-align: top;\n",
       "    }\n",
       "\n",
       "    .dataframe thead th {\n",
       "        text-align: right;\n",
       "    }\n",
       "</style>\n",
       "<table border=\"1\" class=\"dataframe\">\n",
       "  <thead>\n",
       "    <tr style=\"text-align: right;\">\n",
       "      <th></th>\n",
       "      <th>a</th>\n",
       "      <th>c</th>\n",
       "      <th>t</th>\n",
       "      <th>g</th>\n",
       "      <th>ā</th>\n",
       "      <th>č</th>\n",
       "      <th>ī</th>\n",
       "      <th>ō</th>\n",
       "    </tr>\n",
       "  </thead>\n",
       "  <tbody>\n",
       "    <tr>\n",
       "      <th>p</th>\n",
       "      <td>0.125</td>\n",
       "      <td>0.125</td>\n",
       "      <td>0.125</td>\n",
       "      <td>0.125</td>\n",
       "      <td>0.125</td>\n",
       "      <td>0.125</td>\n",
       "      <td>0.125</td>\n",
       "      <td>0.125</td>\n",
       "    </tr>\n",
       "  </tbody>\n",
       "</table>\n",
       "</div>"
      ],
      "text/plain": [
       "       a      c      t      g      ā      č      ī      ō\n",
       "p  0.125  0.125  0.125  0.125  0.125  0.125  0.125  0.125"
      ]
     },
     "execution_count": 26,
     "metadata": {},
     "output_type": "execute_result"
    }
   ],
   "source": [
    "init"
   ]
  },
  {
   "cell_type": "markdown",
   "metadata": {},
   "source": [
    "### Generating a sequence under the HMM\n",
    "\n",
    "Let's generate a 100 bp sequence."
   ]
  },
  {
   "cell_type": "code",
   "execution_count": 27,
   "metadata": {},
   "outputs": [
    {
     "name": "stdout",
     "output_type": "stream",
     "text": [
      "tatgccacagtgtactgtgcatcačččōīčīčōīčōīāōōččāōōāōčōčāčīčāāōčīččōīīōččččāīōōōōōčōčōōōōīāčtcacagctaaaaaā\n",
      "TATGCCACAGTGTACTGTGCATCACCCGTCTCGTCGTAGGCCAGGAGCGCACTCAAGCTCCGTTGCCCCATGGGGGCGCGGGGTACTCACAGCTAAAAAA\n"
     ]
    }
   ],
   "source": [
    "st,seq = hmm.generate(transition, emission, init, 100)\n",
    "print(st)\n",
    "print(seq)"
   ]
  },
  {
   "cell_type": "markdown",
   "metadata": {},
   "source": [
    "To simplify visualization, let's map the states `a`, `t`, `g` and `c` to the `-` symbol and states `ā`, `ī`, `ō`, and `č` to the `+` symbol."
   ]
  },
  {
   "cell_type": "code",
   "execution_count": 28,
   "metadata": {},
   "outputs": [],
   "source": [
    "def CpGify(state):\n",
    "    st_cpg = np.array(list(st),dtype='object')\n",
    "    st_cpg = np.array(np.where((st_cpg=='a')|(st_cpg=='t')|(st_cpg=='c')|(st_cpg=='g'),'-','+'),dtype='object')\n",
    "    return np.sum(st_cpg)"
   ]
  },
  {
   "cell_type": "code",
   "execution_count": 29,
   "metadata": {},
   "outputs": [
    {
     "name": "stdout",
     "output_type": "stream",
     "text": [
      "------------------------++++++++++++++++++++++++++++++++++++++++++++++++++++++++++++++-------------+\n",
      "TATGCCACAGTGTACTGTGCATCACCCGTCTCGTCGTAGGCCAGGAGCGCACTCAAGCTCCGTTGCCCCATGGGGGCGCGGGGTACTCACAGCTAAAAAA\n"
     ]
    }
   ],
   "source": [
    "print(CpGify(st))\n",
    "print(seq)"
   ]
  },
  {
   "cell_type": "markdown",
   "metadata": {},
   "source": [
    "### Decoding\n",
    "\n",
    "Let's decode the sequence we generated above."
   ]
  },
  {
   "cell_type": "code",
   "execution_count": 30,
   "metadata": {},
   "outputs": [
    {
     "name": "stderr",
     "output_type": "stream",
     "text": [
      "/Users/shivamchitnis/Documents/computation/bioinfo/HMMs/hmm.py:58: RuntimeWarning: divide by zero encountered in log\n",
      "  V[:,0] = np.log(init*emission[seq[0]])\n",
      "/Users/shivamchitnis/Documents/computation/bioinfo/HMMs/hmm.py:63: RuntimeWarning: divide by zero encountered in log\n",
      "  possibles = V[:,j-1]+np.log(transition.iloc[:,i])+np.log(emission[seq[j]][i])\n"
     ]
    }
   ],
   "source": [
    "st = hmm.viterbi(seq, transition, emission, init)"
   ]
  },
  {
   "cell_type": "code",
   "execution_count": 31,
   "metadata": {},
   "outputs": [
    {
     "name": "stdout",
     "output_type": "stream",
     "text": [
      "------------------------+++++++++++++++++++++++++++++++++++++++++++++++++++++++++++-----------------\n",
      "TATGCCACAGTGTACTGTGCATCACCCGTCTCGTCGTAGGCCAGGAGCGCACTCAAGCTCCGTTGCCCCATGGGGGCGCGGGGTACTCACAGCTAAAAAA\n"
     ]
    }
   ],
   "source": [
    "print(CpGify(st))\n",
    "print(seq)"
   ]
  },
  {
   "cell_type": "markdown",
   "metadata": {},
   "source": [
    "This model does a good job of identifying CpG rich regions."
   ]
  },
  {
   "cell_type": "markdown",
   "metadata": {},
   "source": [
    "# How good is Viterbi?\n",
    "\n",
    "Let's take sequences of DNA generated under the simple HMM and see what percentage of the hidden states are correctly identified using viterbi."
   ]
  },
  {
   "cell_type": "code",
   "execution_count": 32,
   "metadata": {},
   "outputs": [],
   "source": [
    "#get matrices for the simple HMM and set random seed to None\n",
    "np.random.seed(None)\n",
    "transition = pd.read_csv(\"cpg_hmm_1/transition.csv\",index_col=0)\n",
    "emission = pd.read_csv(\"cpg_hmm_1/emission.csv\",index_col=0)\n",
    "init = pd.read_csv(\"cpg_hmm_1/init.csv\",index_col=0)"
   ]
  },
  {
   "cell_type": "code",
   "execution_count": 33,
   "metadata": {},
   "outputs": [],
   "source": [
    "N = 100 #sequence length\n",
    "M = 100 #number of sequences"
   ]
  },
  {
   "cell_type": "code",
   "execution_count": 34,
   "metadata": {},
   "outputs": [],
   "source": [
    "def performance(M,N,transition,emission,init):\n",
    "    percent = np.zeros(M)\n",
    "    for i in range(M):\n",
    "        st, seq = hmm.generate(transition, emission, init, N)\n",
    "        st_1 = hmm.viterbi(seq, transition, emission, init)\n",
    "        check = (np.array(list(st_1)) == np.array(list(st)))\n",
    "        percent[i] = np.sum(check)/N*100\n",
    "    return np.mean(percent), np.std(percent)"
   ]
  },
  {
   "cell_type": "code",
   "execution_count": 35,
   "metadata": {},
   "outputs": [
    {
     "name": "stdout",
     "output_type": "stream",
     "text": [
      "Viterbi accurately identifies: 68.74 ± 13.32 % of the hidden states\n"
     ]
    }
   ],
   "source": [
    "mean, std = performance(M,N,transition,emission,init)\n",
    "print(\"Viterbi accurately identifies: \"+str(np.round(mean,2))+\" ± \"+\n",
    "      str(np.round(std,2))+\" % of the hidden states\")"
   ]
  },
  {
   "cell_type": "markdown",
   "metadata": {},
   "source": [
    "## How does this behaviour change with transition and emission probabilities?\n",
    "\n",
    "Let's define a dishonest casino HMM (with 2 states — $\\text{h}$, $\\text{d}$ and 2 sequence elements — $\\text{H}$, $\\text{T}$) with the following properties:\n",
    "\n",
    "$$P(\\text{h|h}) = P(\\text{d|d}) = \\alpha$$\n",
    "\n",
    "$$P(\\text{H|h}) = P(\\text{T|d}) = \\beta$$\n",
    "\n",
    "$$P(\\text{h|start}) = P(\\text{d|start}) = 1/2$$\n",
    "\n",
    "Now we scan over $\\alpha$ and $\\beta$ to see how the viterbi algorithm performs."
   ]
  },
  {
   "cell_type": "code",
   "execution_count": 36,
   "metadata": {},
   "outputs": [],
   "source": [
    "states = ['h','d']\n",
    "elements = ['H','T']\n",
    "\n",
    "#init matrix is uniform\n",
    "init = pd.DataFrame(np.array([[0.5,0.5]]),columns = states,index = ['p'])"
   ]
  },
  {
   "cell_type": "code",
   "execution_count": 37,
   "metadata": {},
   "outputs": [],
   "source": [
    "alpha = np.arange(0.1,1,0.1)\n",
    "beta = np.arange(0.1,1,0.1)\n",
    "\n",
    "perf_mn = np.zeros([np.size(alpha),np.size(beta)])\n",
    "perf_std = np.zeros([np.size(alpha),np.size(beta)])"
   ]
  },
  {
   "cell_type": "code",
   "execution_count": 38,
   "metadata": {},
   "outputs": [],
   "source": [
    "M = 40 #number of sample sequences\n",
    "N = 50 #size of each sequence\n",
    "for i,a in enumerate(alpha):\n",
    "    for j,b in enumerate(beta):\n",
    "        transition = pd.DataFrame(np.array([[a,1-a],[1-a,a]]),columns = states, index = states)\n",
    "        emission = pd.DataFrame(np.array([[b,1-b],[1-b,b]]),columns = elements, index = states)\n",
    "        perf_mn[i,j],perf_std[i,j] = performance(M,N,transition,emission,init)"
   ]
  },
  {
   "cell_type": "markdown",
   "metadata": {},
   "source": [
    "### Mean performance as a function of $\\alpha$ and $\\beta$"
   ]
  },
  {
   "cell_type": "code",
   "execution_count": 39,
   "metadata": {},
   "outputs": [
    {
     "data": {
      "image/png": "[encoded data removed]",
      "text/plain": [
       "<Figure size 360x288 with 2 Axes>"
      ]
     },
     "metadata": {},
     "output_type": "display_data"
    }
   ],
   "source": [
    "plt.figure(figsize = (5,4))\n",
    "sns.heatmap(perf_mn, square = True, yticklabels=np.round(alpha,2), xticklabels=np.round(beta,2))\n",
    "plt.ylim([0,np.size(alpha)]);\n",
    "plt.ylabel(r\"$\\alpha$\")\n",
    "plt.xlabel(r\"$\\beta$\")\n",
    "plt.title(\"<Performance> (%accurate states)\");"
   ]
  },
  {
   "cell_type": "markdown",
   "metadata": {},
   "source": [
    "When $\\beta$ is 0.5, it doesn't really matter what the transition probabilities are — the algorithm performs poorly. As $\\beta$ approaches 1 (or equivalently 0), the algorithm performs best for $\\alpha$ close to 1 (or equivalently 0). The best performance is for $\\alpha \\rightarrow 1, \\beta \\rightarrow 1$."
   ]
  },
  {
   "cell_type": "markdown",
   "metadata": {},
   "source": [
    "### Standard deviation of performance as a function of  $\\alpha$ and $\\beta$"
   ]
  },
  {
   "cell_type": "code",
   "execution_count": 40,
   "metadata": {},
   "outputs": [
    {
     "data": {
      "image/png": "[encoded data removed]",
      "text/plain": [
       "<Figure size 360x288 with 2 Axes>"
      ]
     },
     "metadata": {},
     "output_type": "display_data"
    }
   ],
   "source": [
    "plt.figure(figsize = (5,4))\n",
    "sns.heatmap(perf_std, square = True, yticklabels=np.round(alpha,2), xticklabels=np.round(beta,2))\n",
    "plt.ylim([0,np.size(alpha)]);\n",
    "plt.ylabel(r\"$\\alpha$\")\n",
    "plt.xlabel(r\"$\\beta$\")\n",
    "plt.title(\"$\\sigma_{Performance}$ (%accurate states)\");"
   ]
  },
  {
   "cell_type": "markdown",
   "metadata": {},
   "source": [
    "The precision of the algorithm is dependent both on $\\alpha$ and $\\beta$. It's least precise when $\\beta$ is close to 0.5 and $\\alpha$ is close to 1 (or equivalently 0). In general, the more random the probabilities become, the less accurate and less precise the viterbi algorithm becomes."
   ]
  }
 ],
 "metadata": {
  "kernelspec": {
   "display_name": "Python 3",
   "language": "python",
   "name": "python3"
  },
  "language_info": {
   "codemirror_mode": {
    "name": "ipython",
    "version": 3
   },
   "file_extension": ".py",
   "mimetype": "text/x-python",
   "name": "python",
   "nbconvert_exporter": "python",
   "pygments_lexer": "ipython3",
   "version": "3.8.5"
  }
 },
 "nbformat": 4,
 "nbformat_minor": 2
}
